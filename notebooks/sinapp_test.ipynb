{
 "cells": [
  {
   "cell_type": "code",
   "execution_count": 16,
   "metadata": {},
   "outputs": [
    {
     "name": "stdout",
     "output_type": "stream",
     "text": [
      "running install\n",
      "running build\n",
      "running build_py\n",
      "running install_lib\n",
      "copying build/lib/pymialsrtk/__init__.py -> /Users/sebastientourbier/Softwares/miniconda3/envs/supermri-env/lib/python3.7/site-packages/pymialsrtk\n",
      "copying build/lib/pymialsrtk/pipelines/__init__.py -> /Users/sebastientourbier/Softwares/miniconda3/envs/supermri-env/lib/python3.7/site-packages/pymialsrtk/pipelines\n",
      "copying build/lib/pymialsrtk/sinapps/nlmdenoise.py -> /Users/sebastientourbier/Softwares/miniconda3/envs/supermri-env/lib/python3.7/site-packages/pymialsrtk/sinapps\n",
      "copying build/lib/pymialsrtk/sinapps/__init__.py -> /Users/sebastientourbier/Softwares/miniconda3/envs/supermri-env/lib/python3.7/site-packages/pymialsrtk/sinapps\n",
      "copying build/lib/pymialsrtk/info.py -> /Users/sebastientourbier/Softwares/miniconda3/envs/supermri-env/lib/python3.7/site-packages/pymialsrtk\n",
      "copying build/lib/pymialsrtk/interfaces/registration.py -> /Users/sebastientourbier/Softwares/miniconda3/envs/supermri-env/lib/python3.7/site-packages/pymialsrtk/interfaces\n",
      "copying build/lib/pymialsrtk/interfaces/reconstruction.py -> /Users/sebastientourbier/Softwares/miniconda3/envs/supermri-env/lib/python3.7/site-packages/pymialsrtk/interfaces\n",
      "copying build/lib/pymialsrtk/interfaces/preprocess.py -> /Users/sebastientourbier/Softwares/miniconda3/envs/supermri-env/lib/python3.7/site-packages/pymialsrtk/interfaces\n",
      "copying build/lib/pymialsrtk/interfaces/__init__.py -> /Users/sebastientourbier/Softwares/miniconda3/envs/supermri-env/lib/python3.7/site-packages/pymialsrtk/interfaces\n",
      "copying build/lib/pymialsrtk/interfaces/docker.py -> /Users/sebastientourbier/Softwares/miniconda3/envs/supermri-env/lib/python3.7/site-packages/pymialsrtk/interfaces\n",
      "copying build/lib/pymialsrtk/interfaces/utils.py -> /Users/sebastientourbier/Softwares/miniconda3/envs/supermri-env/lib/python3.7/site-packages/pymialsrtk/interfaces\n",
      "byte-compiling /Users/sebastientourbier/Softwares/miniconda3/envs/supermri-env/lib/python3.7/site-packages/pymialsrtk/__init__.py to __init__.cpython-37.pyc\n",
      "byte-compiling /Users/sebastientourbier/Softwares/miniconda3/envs/supermri-env/lib/python3.7/site-packages/pymialsrtk/pipelines/__init__.py to __init__.cpython-37.pyc\n",
      "byte-compiling /Users/sebastientourbier/Softwares/miniconda3/envs/supermri-env/lib/python3.7/site-packages/pymialsrtk/sinapps/nlmdenoise.py to nlmdenoise.cpython-37.pyc\n",
      "byte-compiling /Users/sebastientourbier/Softwares/miniconda3/envs/supermri-env/lib/python3.7/site-packages/pymialsrtk/sinapps/__init__.py to __init__.cpython-37.pyc\n",
      "byte-compiling /Users/sebastientourbier/Softwares/miniconda3/envs/supermri-env/lib/python3.7/site-packages/pymialsrtk/info.py to info.cpython-37.pyc\n",
      "byte-compiling /Users/sebastientourbier/Softwares/miniconda3/envs/supermri-env/lib/python3.7/site-packages/pymialsrtk/interfaces/registration.py to registration.cpython-37.pyc\n",
      "byte-compiling /Users/sebastientourbier/Softwares/miniconda3/envs/supermri-env/lib/python3.7/site-packages/pymialsrtk/interfaces/reconstruction.py to reconstruction.cpython-37.pyc\n",
      "byte-compiling /Users/sebastientourbier/Softwares/miniconda3/envs/supermri-env/lib/python3.7/site-packages/pymialsrtk/interfaces/preprocess.py to preprocess.cpython-37.pyc\n",
      "byte-compiling /Users/sebastientourbier/Softwares/miniconda3/envs/supermri-env/lib/python3.7/site-packages/pymialsrtk/interfaces/__init__.py to __init__.cpython-37.pyc\n",
      "byte-compiling /Users/sebastientourbier/Softwares/miniconda3/envs/supermri-env/lib/python3.7/site-packages/pymialsrtk/interfaces/docker.py to docker.cpython-37.pyc\n",
      "byte-compiling /Users/sebastientourbier/Softwares/miniconda3/envs/supermri-env/lib/python3.7/site-packages/pymialsrtk/interfaces/utils.py to utils.cpython-37.pyc\n",
      "running install_egg_info\n",
      "Removing /Users/sebastientourbier/Softwares/miniconda3/envs/supermri-env/lib/python3.7/site-packages/pymialsrtk-2.0.0_beta_20190906-py3.7.egg-info\n",
      "Writing /Users/sebastientourbier/Softwares/miniconda3/envs/supermri-env/lib/python3.7/site-packages/pymialsrtk-2.0.0_beta_20190906-py3.7.egg-info\n"
     ]
    }
   ],
   "source": [
    "%%bash\n",
    "\n",
    "# Go to folder containing the source code\n",
    "cd /Users/sebastientourbier/Softwares/superres-mri/\n",
    "# Install the pymialsrtk package inside the python/conda environment\n",
    "python setup.py install --force"
   ]
  },
  {
   "cell_type": "code",
   "execution_count": 17,
   "metadata": {},
   "outputs": [
    {
     "name": "stdout",
     "output_type": "stream",
     "text": [
      "env: PYMIALSRTK_DIR=/Users/sebastientourbier/Softwares/superres-mri/pymialsrtk\n",
      "env: BIDS_DIR=/Users/sebastientourbier/Softwares/mialsuperresolutiontoolkit/data\n",
      "env: OUTPUT_DIR=/Users/sebastientourbier/Softwares/mialsuperresolutiontoolkit/data/derivatives\n",
      "env: SUBJECT=01\n"
     ]
    }
   ],
   "source": [
    "%env PYMIALSRTK_DIR=/Users/sebastientourbier/Softwares/superres-mri/pymialsrtk\n",
    "\n",
    "%env BIDS_DIR=/Users/sebastientourbier/Softwares/mialsuperresolutiontoolkit/data\n",
    "%env OUTPUT_DIR=/Users/sebastientourbier/Softwares/mialsuperresolutiontoolkit/data/derivatives\n",
    "%env SUBJECT=01"
   ]
  },
  {
   "cell_type": "code",
   "execution_count": 19,
   "metadata": {},
   "outputs": [
    {
     "name": "stdout",
     "output_type": "stream",
     "text": [
      "191109-03:29:05,354 nipype.interface INFO:\n",
      "\t **** Processing ****\n",
      "191109-03:29:06,21 nipype.workflow INFO:\n",
      "\t Workflow bids_demo settings: ['check', 'execution', 'logging', 'monitoring']\n",
      "191109-03:29:06,35 nipype.workflow INFO:\n",
      "\t Running serially.\n",
      "191109-03:29:06,35 nipype.workflow INFO:\n",
      "\t [Node] Setting-up \"bids_demo.bids_grabber\" in \"/Users/sebastientourbier/Softwares/mialsuperresolutiontoolkit/data/derivatives/bids_demo/bids_grabber\".\n",
      "191109-03:29:06,39 nipype.workflow INFO:\n",
      "\t [Node] Running \"bids_grabber\" (\"nipype.interfaces.io.BIDSDataGrabber\")\n",
      "191109-03:29:06,142 nipype.workflow INFO:\n",
      "\t [Node] Finished \"bids_demo.bids_grabber\".\n",
      "191109-03:29:06,143 nipype.workflow INFO:\n",
      "\t [Node] Setting-up \"bids_demo.preparePaths\" in \"/Users/sebastientourbier/Softwares/mialsuperresolutiontoolkit/data/derivatives/bids_demo/preparePaths\".\n",
      "191109-03:29:06,151 nipype.workflow INFO:\n",
      "\t [Node] Running \"preparePaths\" (\"pymialsrtk.interfaces.docker.prepareDockerPaths\")\n",
      "/fetaldata/sub-01/anat/sub-01_run-1_T2w.nii.gz\n",
      "/fetaldata/sub-01/anat/sub-01_run-2_T2w.nii.gz\n",
      "/fetaldata/sub-01/anat/sub-01_run-3_T2w.nii.gz\n",
      "/fetaldata/sub-01/anat/sub-01_run-4_T2w.nii.gz\n",
      "/fetaldata/sub-01/anat/sub-01_run-5_T2w.nii.gz\n",
      "/fetaldata/sub-01/anat/sub-01_run-6_T2w.nii.gz\n",
      "/fetaldata/derivatives/manual_masks/sub-01/anat/sub-01_run-1_T2w_desc-brain_mask.nii.gz\n",
      "/fetaldata/derivatives/manual_masks/sub-01/anat/sub-01_run-2_T2w_desc-brain_mask.nii.gz\n",
      "/fetaldata/derivatives/manual_masks/sub-01/anat/sub-01_run-3_T2w_desc-brain_mask.nii.gz\n",
      "/fetaldata/derivatives/manual_masks/sub-01/anat/sub-01_run-4_T2w_desc-brain_mask.nii.gz\n",
      "/fetaldata/derivatives/manual_masks/sub-01/anat/sub-01_run-5_T2w_desc-brain_mask.nii.gz\n",
      "/fetaldata/derivatives/manual_masks/sub-01/anat/sub-01_run-6_T2w_desc-brain_mask.nii.gz\n",
      "['/fetaldata/derivatives/manual_masks/sub-01/anat/sub-01_run-1_T2w_desc-brain_mask.nii.gz', '/fetaldata/derivatives/manual_masks/sub-01/anat/sub-01_run-2_T2w_desc-brain_mask.nii.gz', '/fetaldata/derivatives/manual_masks/sub-01/anat/sub-01_run-3_T2w_desc-brain_mask.nii.gz', '/fetaldata/derivatives/manual_masks/sub-01/anat/sub-01_run-4_T2w_desc-brain_mask.nii.gz', '/fetaldata/derivatives/manual_masks/sub-01/anat/sub-01_run-5_T2w_desc-brain_mask.nii.gz', '/fetaldata/derivatives/manual_masks/sub-01/anat/sub-01_run-6_T2w_desc-brain_mask.nii.gz']\n",
      "191109-03:29:06,156 nipype.workflow INFO:\n",
      "\t [Node] Finished \"bids_demo.preparePaths\".\n",
      "191109-03:29:06,157 nipype.workflow INFO:\n",
      "\t [Node] Setting-up \"bids_demo.nlmDenoise\" in \"/Users/sebastientourbier/Softwares/mialsuperresolutiontoolkit/data/derivatives/bids_demo/nlmDenoise\".\n",
      "191109-03:29:06,161 nipype.workflow INFO:\n",
      "\t [Node] Running \"nlmDenoise\" (\"pymialsrtk.interfaces.preprocess.MultipleBtkNLMDenoising\")\n",
      "... cmd: docker run --rm -u 501:20 -v \"/Users/sebastientourbier/Softwares/mialsuperresolutiontoolkit/data\":/fetaldata sebastientourbier/mialsuperresolutiontoolkit btkNLMDenoising -i \"/fetaldata/sub-01/anat/sub-01_run-1_T2w.nii.gz\" -o \"/fetaldata/derivatives/bids_demo/nlmDenoise/sub-01_run-1_T2w_nlm.nii.gz\" -b 0.1\n",
      "... cmd: docker run --rm -u 501:20 -v \"/Users/sebastientourbier/Softwares/mialsuperresolutiontoolkit/data\":/fetaldata sebastientourbier/mialsuperresolutiontoolkit btkNLMDenoising -i \"/fetaldata/sub-01/anat/sub-01_run-2_T2w.nii.gz\" -o \"/fetaldata/derivatives/bids_demo/nlmDenoise/sub-01_run-2_T2w_nlm.nii.gz\" -b 0.1\n",
      "... cmd: docker run --rm -u 501:20 -v \"/Users/sebastientourbier/Softwares/mialsuperresolutiontoolkit/data\":/fetaldata sebastientourbier/mialsuperresolutiontoolkit btkNLMDenoising -i \"/fetaldata/sub-01/anat/sub-01_run-3_T2w.nii.gz\" -o \"/fetaldata/derivatives/bids_demo/nlmDenoise/sub-01_run-3_T2w_nlm.nii.gz\" -b 0.1\n",
      "... cmd: docker run --rm -u 501:20 -v \"/Users/sebastientourbier/Softwares/mialsuperresolutiontoolkit/data\":/fetaldata sebastientourbier/mialsuperresolutiontoolkit btkNLMDenoising -i \"/fetaldata/sub-01/anat/sub-01_run-4_T2w.nii.gz\" -o \"/fetaldata/derivatives/bids_demo/nlmDenoise/sub-01_run-4_T2w_nlm.nii.gz\" -b 0.1\n",
      "... cmd: docker run --rm -u 501:20 -v \"/Users/sebastientourbier/Softwares/mialsuperresolutiontoolkit/data\":/fetaldata sebastientourbier/mialsuperresolutiontoolkit btkNLMDenoising -i \"/fetaldata/sub-01/anat/sub-01_run-5_T2w.nii.gz\" -o \"/fetaldata/derivatives/bids_demo/nlmDenoise/sub-01_run-5_T2w_nlm.nii.gz\" -b 0.1\n",
      "... cmd: docker run --rm -u 501:20 -v \"/Users/sebastientourbier/Softwares/mialsuperresolutiontoolkit/data\":/fetaldata sebastientourbier/mialsuperresolutiontoolkit btkNLMDenoising -i \"/fetaldata/sub-01/anat/sub-01_run-6_T2w.nii.gz\" -o \"/fetaldata/derivatives/bids_demo/nlmDenoise/sub-01_run-6_T2w_nlm.nii.gz\" -b 0.1\n",
      "191109-03:33:44,676 nipype.workflow INFO:\n",
      "\t [Node] Finished \"bids_demo.nlmDenoise\".\n"
     ]
    }
   ],
   "source": [
    "%%bash\n",
    "\n",
    "python ${PYMIALSRTK_DIR}/sinapps/nlmdenoise.py ${BIDS_DIR} ${OUTPUT_DIR} participant --participant_label \"01\""
   ]
  },
  {
   "cell_type": "code",
   "execution_count": null,
   "metadata": {},
   "outputs": [],
   "source": []
  }
 ],
 "metadata": {
  "kernelspec": {
   "display_name": "Python 3",
   "language": "python",
   "name": "python3"
  },
  "language_info": {
   "codemirror_mode": {
    "name": "ipython",
    "version": 3
   },
   "file_extension": ".py",
   "mimetype": "text/x-python",
   "name": "python",
   "nbconvert_exporter": "python",
   "pygments_lexer": "ipython3",
   "version": "3.7.2"
  }
 },
 "nbformat": 4,
 "nbformat_minor": 2
}
